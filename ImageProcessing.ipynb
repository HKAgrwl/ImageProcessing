{
 "cells": [
  {
   "cell_type": "code",
   "execution_count": null,
   "metadata": {},
   "outputs": [],
   "source": [
    "import cv2\n",
    "from google.colab.patches import cv2_imshow\n",
    "import numpy as np\n",
    "import matplotlib.pyplot as plt\n",
    "\n",
    "# OpenCV processes image as BGR\n",
    "img = cv2.imread('sample_data/DSCN0002.JPG',cv2.IMREAD_GRAYSCALE)\n",
    "# IMREAD_COLOR = 1\n",
    "# IMREAD_UNCHANGED = -1\n",
    "\n",
    "# cv2_imshow(img)\n",
    "# cv2.waitKey(0)\n",
    "# cv2.destroyAllWindows\n",
    "\n",
    "#matplotlib processes data as RGB\n",
    "plt.imshow(img,cmap='gray',interpolation='bicubic')\n",
    "plt.show()"
   ]
  }
 ],
 "metadata": {
  "language_info": {
   "name": "python"
  },
  "orig_nbformat": 4
 },
 "nbformat": 4,
 "nbformat_minor": 2
}
